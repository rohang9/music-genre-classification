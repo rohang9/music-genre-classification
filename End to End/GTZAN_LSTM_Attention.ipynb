{
 "cells": [
  {
   "cell_type": "code",
   "execution_count": null,
   "metadata": {
    "colab": {
     "base_uri": "https://localhost:8080/",
     "height": 241
    },
    "colab_type": "code",
    "id": "58dcMfPUGwiV",
    "outputId": "fea52290-f10a-4cf2-c629-69810b76f5a3"
   },
   "outputs": [
    {
     "name": "stdout",
     "output_type": "stream",
     "text": [
      "Requirement already satisfied: librosa in /usr/local/lib/python3.6/dist-packages (0.6.3)\n",
      "Requirement already satisfied: audioread>=2.0.0 in /usr/local/lib/python3.6/dist-packages (from librosa) (2.1.8)\n",
      "Requirement already satisfied: six>=1.3 in /usr/local/lib/python3.6/dist-packages (from librosa) (1.12.0)\n",
      "Requirement already satisfied: resampy>=0.2.0 in /usr/local/lib/python3.6/dist-packages (from librosa) (0.2.2)\n",
      "Requirement already satisfied: decorator>=3.0.0 in /usr/local/lib/python3.6/dist-packages (from librosa) (4.4.2)\n",
      "Requirement already satisfied: scipy>=1.0.0 in /usr/local/lib/python3.6/dist-packages (from librosa) (1.4.1)\n",
      "Requirement already satisfied: scikit-learn!=0.19.0,>=0.14.0 in /usr/local/lib/python3.6/dist-packages (from librosa) (0.22.2.post1)\n",
      "Requirement already satisfied: joblib>=0.12 in /usr/local/lib/python3.6/dist-packages (from librosa) (0.15.1)\n",
      "Requirement already satisfied: numpy>=1.8.0 in /usr/local/lib/python3.6/dist-packages (from librosa) (1.18.5)\n",
      "Requirement already satisfied: numba>=0.38.0 in /usr/local/lib/python3.6/dist-packages (from librosa) (0.48.0)\n",
      "Requirement already satisfied: setuptools in /usr/local/lib/python3.6/dist-packages (from numba>=0.38.0->librosa) (47.3.1)\n",
      "Requirement already satisfied: llvmlite<0.32.0,>=0.31.0dev0 in /usr/local/lib/python3.6/dist-packages (from numba>=0.38.0->librosa) (0.31.0)\n"
     ]
    }
   ],
   "source": [
    "!pip install librosa"
   ]
  },
  {
   "cell_type": "code",
   "execution_count": 1,
   "metadata": {
    "colab": {},
    "colab_type": "code",
    "id": "z4qbi2QJGwid"
   },
   "outputs": [],
   "source": [
    "import numpy as np\n",
    "import librosa\n",
    "import matplotlib.pyplot as plt\n",
    "import os\n",
    "from tensorflow.keras.models import Sequential,Model\n",
    "from tensorflow.keras.layers import LSTM,Activation,Flatten,Dense,TimeDistributed,BatchNormalization,Dropout,Bidirectional,Conv1D,MaxPool1D\n",
    "from tensorflow.keras.layers import Dot,RepeatVector,Input,Concatenate\n",
    "import tensorflow.keras.optimizers as optimizer\n",
    "import tensorflow.keras.utils\n",
    "from sklearn.model_selection import train_test_split\n",
    "from sklearn.preprocessing import StandardScaler\n",
    "from zipfile import ZipFile"
   ]
  },
  {
   "cell_type": "code",
   "execution_count": 2,
   "metadata": {
    "colab": {
     "base_uri": "https://localhost:8080/",
     "height": 219
    },
    "colab_type": "code",
    "id": "j9ifKPcgGwim",
    "outputId": "33687d78-3fb4-4bee-ae5e-05d8db1f18ab"
   },
   "outputs": [
    {
     "name": "stdout",
     "output_type": "stream",
     "text": [
      "Requirement already satisfied: kaggle in /usr/local/lib/python3.6/dist-packages (1.5.6)\n",
      "Requirement already satisfied: urllib3<1.25,>=1.21.1 in /usr/local/lib/python3.6/dist-packages (from kaggle) (1.24.3)\n",
      "Requirement already satisfied: six>=1.10 in /usr/local/lib/python3.6/dist-packages (from kaggle) (1.12.0)\n",
      "Requirement already satisfied: python-dateutil in /usr/local/lib/python3.6/dist-packages (from kaggle) (2.8.1)\n",
      "Requirement already satisfied: tqdm in /usr/local/lib/python3.6/dist-packages (from kaggle) (4.41.1)\n",
      "Requirement already satisfied: requests in /usr/local/lib/python3.6/dist-packages (from kaggle) (2.23.0)\n",
      "Requirement already satisfied: python-slugify in /usr/local/lib/python3.6/dist-packages (from kaggle) (4.0.0)\n",
      "Requirement already satisfied: certifi in /usr/local/lib/python3.6/dist-packages (from kaggle) (2020.6.20)\n",
      "Requirement already satisfied: idna<3,>=2.5 in /usr/local/lib/python3.6/dist-packages (from requests->kaggle) (2.9)\n",
      "Requirement already satisfied: chardet<4,>=3.0.2 in /usr/local/lib/python3.6/dist-packages (from requests->kaggle) (3.0.4)\n",
      "Requirement already satisfied: text-unidecode>=1.3 in /usr/local/lib/python3.6/dist-packages (from python-slugify->kaggle) (1.3)\n"
     ]
    }
   ],
   "source": [
    "!pip install kaggle"
   ]
  },
  {
   "cell_type": "code",
   "execution_count": 4,
   "metadata": {
    "colab": {
     "base_uri": "https://localhost:8080/",
     "height": 54
    },
    "colab_type": "code",
    "id": "ghxMr-io7GhX",
    "outputId": "c7fac5b1-83a6-48bc-d3d1-3218d2e6ee7c"
   },
   "outputs": [
    {
     "name": "stdout",
     "output_type": "stream",
     "text": [
      "Requirement already satisfied: google in /usr/local/lib/python3.6/dist-packages (2.0.3)\n",
      "Requirement already satisfied: beautifulsoup4 in /usr/local/lib/python3.6/dist-packages (from google) (4.6.3)\n"
     ]
    }
   ],
   "source": [
    "!pip install google"
   ]
  },
  {
   "cell_type": "code",
   "execution_count": 5,
   "metadata": {
    "colab": {
     "base_uri": "https://localhost:8080/",
     "height": 365
    },
    "colab_type": "code",
    "id": "pmkYSuWpINSv",
    "outputId": "bf93b3de-2b4a-430b-f26f-43e2a0964be3"
   },
   "outputs": [
    {
     "data": {
      "text/html": [
       "\n",
       "     <input type=\"file\" id=\"files-34845768-9bd8-48c5-ae4f-e3110aaf7456\" name=\"files[]\" multiple disabled\n",
       "        style=\"border:none\" />\n",
       "     <output id=\"result-34845768-9bd8-48c5-ae4f-e3110aaf7456\">\n",
       "      Upload widget is only available when the cell has been executed in the\n",
       "      current browser session. Please rerun this cell to enable.\n",
       "      </output>\n",
       "      <script src=\"/nbextensions/google.colab/files.js\"></script> "
      ],
      "text/plain": [
       "<IPython.core.display.HTML object>"
      ]
     },
     "metadata": {
      "tags": []
     },
     "output_type": "display_data"
    },
    {
     "ename": "MessageError",
     "evalue": "ignored",
     "output_type": "error",
     "traceback": [
      "\u001b[0;31m---------------------------------------------------------------------------\u001b[0m",
      "\u001b[0;31mMessageError\u001b[0m                              Traceback (most recent call last)",
      "\u001b[0;32m<ipython-input-5-5c2e8a8d365b>\u001b[0m in \u001b[0;36m<module>\u001b[0;34m()\u001b[0m\n\u001b[1;32m      1\u001b[0m \u001b[0;32mfrom\u001b[0m \u001b[0mgoogle\u001b[0m\u001b[0;34m.\u001b[0m\u001b[0mcolab\u001b[0m \u001b[0;32mimport\u001b[0m \u001b[0mfiles\u001b[0m\u001b[0;34m\u001b[0m\u001b[0;34m\u001b[0m\u001b[0m\n\u001b[0;32m----> 2\u001b[0;31m \u001b[0mfiles\u001b[0m\u001b[0;34m.\u001b[0m\u001b[0mupload\u001b[0m\u001b[0;34m(\u001b[0m\u001b[0;34m)\u001b[0m\u001b[0;34m\u001b[0m\u001b[0;34m\u001b[0m\u001b[0m\n\u001b[0m",
      "\u001b[0;32m/usr/local/lib/python3.6/dist-packages/google/colab/files.py\u001b[0m in \u001b[0;36mupload\u001b[0;34m()\u001b[0m\n\u001b[1;32m     67\u001b[0m   result = _output.eval_js(\n\u001b[1;32m     68\u001b[0m       'google.colab._files._uploadFiles(\"{input_id}\", \"{output_id}\")'.format(\n\u001b[0;32m---> 69\u001b[0;31m           input_id=input_id, output_id=output_id))\n\u001b[0m\u001b[1;32m     70\u001b[0m   \u001b[0mfiles\u001b[0m \u001b[0;34m=\u001b[0m \u001b[0m_collections\u001b[0m\u001b[0;34m.\u001b[0m\u001b[0mdefaultdict\u001b[0m\u001b[0;34m(\u001b[0m\u001b[0m_six\u001b[0m\u001b[0;34m.\u001b[0m\u001b[0mbinary_type\u001b[0m\u001b[0;34m)\u001b[0m\u001b[0;34m\u001b[0m\u001b[0;34m\u001b[0m\u001b[0m\n\u001b[1;32m     71\u001b[0m   \u001b[0;31m# Mapping from original filename to filename as saved locally.\u001b[0m\u001b[0;34m\u001b[0m\u001b[0;34m\u001b[0m\u001b[0;34m\u001b[0m\u001b[0m\n",
      "\u001b[0;32m/usr/local/lib/python3.6/dist-packages/google/colab/output/_js.py\u001b[0m in \u001b[0;36meval_js\u001b[0;34m(script, ignore_result)\u001b[0m\n\u001b[1;32m     37\u001b[0m   \u001b[0;32mif\u001b[0m \u001b[0mignore_result\u001b[0m\u001b[0;34m:\u001b[0m\u001b[0;34m\u001b[0m\u001b[0;34m\u001b[0m\u001b[0m\n\u001b[1;32m     38\u001b[0m     \u001b[0;32mreturn\u001b[0m\u001b[0;34m\u001b[0m\u001b[0;34m\u001b[0m\u001b[0m\n\u001b[0;32m---> 39\u001b[0;31m   \u001b[0;32mreturn\u001b[0m \u001b[0m_message\u001b[0m\u001b[0;34m.\u001b[0m\u001b[0mread_reply_from_input\u001b[0m\u001b[0;34m(\u001b[0m\u001b[0mrequest_id\u001b[0m\u001b[0;34m)\u001b[0m\u001b[0;34m\u001b[0m\u001b[0;34m\u001b[0m\u001b[0m\n\u001b[0m\u001b[1;32m     40\u001b[0m \u001b[0;34m\u001b[0m\u001b[0m\n\u001b[1;32m     41\u001b[0m \u001b[0;34m\u001b[0m\u001b[0m\n",
      "\u001b[0;32m/usr/local/lib/python3.6/dist-packages/google/colab/_message.py\u001b[0m in \u001b[0;36mread_reply_from_input\u001b[0;34m(message_id, timeout_sec)\u001b[0m\n\u001b[1;32m    104\u001b[0m         reply.get('colab_msg_id') == message_id):\n\u001b[1;32m    105\u001b[0m       \u001b[0;32mif\u001b[0m \u001b[0;34m'error'\u001b[0m \u001b[0;32min\u001b[0m \u001b[0mreply\u001b[0m\u001b[0;34m:\u001b[0m\u001b[0;34m\u001b[0m\u001b[0;34m\u001b[0m\u001b[0m\n\u001b[0;32m--> 106\u001b[0;31m         \u001b[0;32mraise\u001b[0m \u001b[0mMessageError\u001b[0m\u001b[0;34m(\u001b[0m\u001b[0mreply\u001b[0m\u001b[0;34m[\u001b[0m\u001b[0;34m'error'\u001b[0m\u001b[0;34m]\u001b[0m\u001b[0;34m)\u001b[0m\u001b[0;34m\u001b[0m\u001b[0;34m\u001b[0m\u001b[0m\n\u001b[0m\u001b[1;32m    107\u001b[0m       \u001b[0;32mreturn\u001b[0m \u001b[0mreply\u001b[0m\u001b[0;34m.\u001b[0m\u001b[0mget\u001b[0m\u001b[0;34m(\u001b[0m\u001b[0;34m'data'\u001b[0m\u001b[0;34m,\u001b[0m \u001b[0;32mNone\u001b[0m\u001b[0;34m)\u001b[0m\u001b[0;34m\u001b[0m\u001b[0;34m\u001b[0m\u001b[0m\n\u001b[1;32m    108\u001b[0m \u001b[0;34m\u001b[0m\u001b[0m\n",
      "\u001b[0;31mMessageError\u001b[0m: TypeError: google.colab._files is undefined"
     ]
    }
   ],
   "source": [
    "from google.colab import files\n",
    "files.upload()"
   ]
  },
  {
   "cell_type": "code",
   "execution_count": null,
   "metadata": {
    "colab": {},
    "colab_type": "code",
    "id": "jUu5nJDsbxKn"
   },
   "outputs": [],
   "source": [
    "!mkdir -p ~/.kaggle\n",
    "!cp kaggle.json ~/.kaggle/\n",
    "!chmod 600 ~/.kaggle/kaggle.json"
   ]
  },
  {
   "cell_type": "code",
   "execution_count": null,
   "metadata": {
    "colab": {
     "base_uri": "https://localhost:8080/",
     "height": 68
    },
    "colab_type": "code",
    "id": "3sc_mtP7cUNH",
    "outputId": "e2fbdd14-2135-45ff-9fd7-9474e047d4cc"
   },
   "outputs": [
    {
     "name": "stdout",
     "output_type": "stream",
     "text": [
      "Downloading gtzan-genre-collection.zip to /content\n",
      " 99% 1.13G/1.14G [00:29<00:00, 58.9MB/s]\n",
      "100% 1.14G/1.14G [00:30<00:00, 40.7MB/s]\n"
     ]
    }
   ],
   "source": [
    "!kaggle datasets download -d carlthome/gtzan-genre-collection"
   ]
  },
  {
   "cell_type": "code",
   "execution_count": null,
   "metadata": {
    "colab": {
     "base_uri": "https://localhost:8080/",
     "height": 34
    },
    "colab_type": "code",
    "id": "jsGzCH1adOYu",
    "outputId": "b093d2bb-8c26-4cff-9172-1c26c2136d84"
   },
   "outputs": [
    {
     "name": "stdout",
     "output_type": "stream",
     "text": [
      "gtzan-genre-collection.zip  kaggle.json  sample_data\n"
     ]
    }
   ],
   "source": [
    "!ls"
   ]
  },
  {
   "cell_type": "code",
   "execution_count": null,
   "metadata": {
    "colab": {},
    "colab_type": "code",
    "id": "bGHI-DyodjJ1"
   },
   "outputs": [],
   "source": [
    "with ZipFile('gtzan-genre-collection.zip','r') as zip:\n",
    "    zip.extractall()"
   ]
  },
  {
   "cell_type": "code",
   "execution_count": null,
   "metadata": {
    "colab": {},
    "colab_type": "code",
    "id": "ZSmFOGsdGwit"
   },
   "outputs": [],
   "source": [
    "path = 'genres/'\n",
    "genres = 'blues classical country disco hiphop jazz metal pop reggae rock'.split()\n",
    "\n",
    "genre_to_file = {}\n",
    "for g in genres:\n",
    "\tgenre_to_file[g] = []\n",
    "\tfor fname in os.listdir(path+g+'/'):\n",
    "\t\tgenre_to_file[g].append(fname)\n"
   ]
  },
  {
   "cell_type": "code",
   "execution_count": null,
   "metadata": {
    "colab": {
     "base_uri": "https://localhost:8080/",
     "height": 425
    },
    "colab_type": "code",
    "id": "UiMXVhl1Gwi4",
    "outputId": "82efc154-3597-45f3-8d7b-39a494c0ca47"
   },
   "outputs": [
    {
     "name": "stdout",
     "output_type": "stream",
     "text": [
      "------------------------------------Chroma Frequencies Loading------------------------------------\n",
      "---------------------------------------- blues  finished---------------------------------------\n",
      "---------------------------------------- classical  finished---------------------------------------\n",
      "---------------------------------------- country  finished---------------------------------------\n",
      "---------------------------------------- disco  finished---------------------------------------\n",
      "---------------------------------------- hiphop  finished---------------------------------------\n",
      "---------------------------------------- jazz  finished---------------------------------------\n",
      "---------------------------------------- metal  finished---------------------------------------\n",
      "---------------------------------------- pop  finished---------------------------------------\n",
      "---------------------------------------- reggae  finished---------------------------------------\n",
      "---------------------------------------- rock  finished---------------------------------------\n",
      "------------------------------------Chroma Frequencies Done------------------------------------\n",
      "------------------------------------------MFCCs Loading-----------------------------------------\n",
      "----------------------------- blues  finished----------------------------------------------\n",
      "----------------------------- classical  finished----------------------------------------------\n",
      "----------------------------- country  finished----------------------------------------------\n",
      "----------------------------- disco  finished----------------------------------------------\n",
      "----------------------------- hiphop  finished----------------------------------------------\n",
      "----------------------------- jazz  finished----------------------------------------------\n",
      "----------------------------- metal  finished----------------------------------------------\n",
      "----------------------------- pop  finished----------------------------------------------\n",
      "----------------------------- reggae  finished----------------------------------------------\n",
      "----------------------------- rock  finished----------------------------------------------\n",
      "------------------------------------------MFCCs, Spec, ZCR Done-----------------------------------------\n"
     ]
    }
   ],
   "source": [
    "print(\"------------------------------------Chroma Frequencies Loading------------------------------------\")\n",
    "i=0\n",
    "j=0\n",
    "y = np.zeros((1000,1))\n",
    "chroma = np.zeros((1000,1290,12))\n",
    "for g in genres:\n",
    "\tfor fname in genre_to_file[g]:\n",
    "\t\tx,sr = librosa.load(path+g+'/'+fname,mono=True,duration=30)\n",
    "\t\tchroma[i] = librosa.feature.chroma_stft(x,sr)[:,:1290].T\n",
    "\t\ty[i] = j\n",
    "\t\ti += 1\n",
    "\tj += 1\n",
    "\tprint('----------------------------------------',g,' finished---------------------------------------')\n",
    "print(\"------------------------------------Chroma Frequencies Done------------------------------------\")\n",
    "print(\"------------------------------------------MFCCs Loading-----------------------------------------\")\n",
    "i=0\n",
    "mfcc = np.zeros((1000,1290,20))\n",
    "roll = np.zeros((1000,1290,1))\n",
    "zcr = np.zeros((1000,1290,1))\n",
    "centroid = np.zeros((1000,1290,1))\n",
    "bw = np.zeros((1000,1290,1))\n",
    "for g in genres:\n",
    "\tfor fname in genre_to_file[g]:\n",
    "\t\tx,sr = librosa.load(path+g+'/'+fname,mono=True,duration=30)\n",
    "\t\tmfcc[i] = librosa.feature.mfcc(x,sr)[:,:1290].T\n",
    "\t\troll[i] = librosa.feature.spectral_rolloff(x,sr)[:,:1290].T\n",
    "\t\tzcr[i] = librosa.feature.zero_crossing_rate(x)[:,:1290].T\n",
    "\t\tcentroid[i] = librosa.feature.spectral_centroid(x,sr)[:,:1290].T\n",
    "\t\tbw[i] = librosa.feature.spectral_bandwidth(x,sr)[:,:1290].T        \n",
    "\t\ti += 1\n",
    "\tprint('-----------------------------',g,' finished----------------------------------------------')\n",
    "print(\"------------------------------------------MFCCs, Spec, ZCR Done-----------------------------------------\")\n"
   ]
  },
  {
   "cell_type": "code",
   "execution_count": null,
   "metadata": {
    "colab": {
     "base_uri": "https://localhost:8080/",
     "height": 51
    },
    "colab_type": "code",
    "id": "Xk_5bbw0Gwi8",
    "outputId": "64a993de-356b-4863-b9b5-aebdbb7668cb"
   },
   "outputs": [
    {
     "name": "stdout",
     "output_type": "stream",
     "text": [
      "-------------------------------Concatenation Started------------------------------------------\n",
      "-----------------------------------Concatenation Done------------------------------------------\n"
     ]
    }
   ],
   "source": [
    "print(\"-------------------------------Concatenation Started------------------------------------------\")\n",
    "X = np.concatenate((chroma,mfcc,roll,zcr),axis=-1)\n",
    "print(\"-----------------------------------Concatenation Done------------------------------------------\")"
   ]
  },
  {
   "cell_type": "code",
   "execution_count": null,
   "metadata": {
    "colab": {},
    "colab_type": "code",
    "id": "trnnUJHijED6"
   },
   "outputs": [],
   "source": [
    "y_fin=np.dot(y,np.array([1,1]).reshape((1,2))).ravel().reshape((2*y.shape[0],1))\n"
   ]
  },
  {
   "cell_type": "code",
   "execution_count": null,
   "metadata": {
    "colab": {},
    "colab_type": "code",
    "id": "e_LG4NfJjmMt"
   },
   "outputs": [],
   "source": [
    "#1290/2\n",
    "X = X.reshape((2000,645,34))"
   ]
  },
  {
   "cell_type": "code",
   "execution_count": null,
   "metadata": {
    "colab": {
     "base_uri": "https://localhost:8080/",
     "height": 34
    },
    "colab_type": "code",
    "id": "gmmU9UaujfvV",
    "outputId": "863fb121-8842-4f3b-ed1e-ea1b0d91f772"
   },
   "outputs": [
    {
     "data": {
      "text/plain": [
       "((2000, 1), (2000, 645, 34))"
      ]
     },
     "execution_count": 14,
     "metadata": {
      "tags": []
     },
     "output_type": "execute_result"
    }
   ],
   "source": [
    "y_fin.shape,X.shape"
   ]
  },
  {
   "cell_type": "code",
   "execution_count": null,
   "metadata": {
    "colab": {
     "base_uri": "https://localhost:8080/",
     "height": 68
    },
    "colab_type": "code",
    "id": "LyPoR8PdGwjA",
    "outputId": "a0215ca5-5fb6-4e70-eaf6-37cd1202709b"
   },
   "outputs": [
    {
     "name": "stdout",
     "output_type": "stream",
     "text": [
      "-------------------------Split into Train and Cross Validation Data--------------------------\n",
      "---------------------Training and Cross Validation Matrices Made-----------------------------\n",
      "\n"
     ]
    }
   ],
   "source": [
    "print(\"-------------------------Split into Train and Cross Validation Data--------------------------\")\n",
    "y = tensorflow.keras.utils.to_categorical(y_fin,10)\n",
    "X_train,X_test,y_train,y_test = train_test_split(X,y,test_size=0.15)\n",
    "print('---------------------Training and Cross Validation Matrices Made-----------------------------\\n')"
   ]
  },
  {
   "cell_type": "code",
   "execution_count": null,
   "metadata": {
    "colab": {
     "base_uri": "https://localhost:8080/",
     "height": 34
    },
    "colab_type": "code",
    "id": "x0qJllwEGwjJ",
    "outputId": "403eb220-c48f-4cbd-a28d-6a3efb0aa50d"
   },
   "outputs": [
    {
     "data": {
      "text/plain": [
       "(1700, 645, 34)"
      ]
     },
     "execution_count": 17,
     "metadata": {
      "tags": []
     },
     "output_type": "execute_result"
    }
   ],
   "source": [
    "X_train.shape"
   ]
  },
  {
   "cell_type": "code",
   "execution_count": null,
   "metadata": {
    "colab": {
     "base_uri": "https://localhost:8080/",
     "height": 68
    },
    "colab_type": "code",
    "id": "sXeFveUjGwjM",
    "outputId": "4c4d7899-7c22-4ae0-f408-b9f055b0e08a"
   },
   "outputs": [
    {
     "name": "stdout",
     "output_type": "stream",
     "text": [
      "---------------------Training and Cross Validation Matrices Preprocessing-----------------------------\n",
      "\n",
      "(1700, 645, 34) (1700, 10) (300, 645, 34) (300, 10)\n"
     ]
    }
   ],
   "source": [
    "print('---------------------Training and Cross Validation Matrices Preprocessing-----------------------------\\n')\n",
    "scaler = StandardScaler()\n",
    "num_instances,num_time_steps,num_features = X_train.shape\n",
    "X_train = np.reshape(X_train, (-1, num_features))\n",
    "X_train = scaler.fit_transform(X_train)\n",
    "X_train = np.reshape(X_train, (num_instances, num_time_steps, num_features))\n",
    "num_instances,num_time_steps,num_features = X_test.shape\n",
    "X_test = np.reshape(X_test, (-1, num_features))\n",
    "X_test = scaler.transform(X_test)\n",
    "X_test = np.reshape(X_test, (num_instances, num_time_steps, num_features))\n",
    "print(X_train.shape,y_train.shape,X_test.shape,y_test.shape)"
   ]
  },
  {
   "cell_type": "code",
   "execution_count": null,
   "metadata": {
    "colab": {},
    "colab_type": "code",
    "id": "gH90gdu3GwjQ"
   },
   "outputs": [],
   "source": [
    "def model_building():\n",
    "\tmodel = Sequential()\n",
    "\tmodel.add(TimeDistributed(Dense(128,activation='tanh'),input_shape=(X.shape[1:])))\n",
    "\tmodel.add(TimeDistributed(Dropout(0.2)))\n",
    "\tmodel.add(TimeDistributed(Dense(64,activation='tanh')))\n",
    "\tmodel.add(TimeDistributed(Dropout(0.2)))\n",
    "\tmodel.add(TimeDistributed(Dense(32,activation='tanh')))\n",
    "\tmodel.add(TimeDistributed(Dropout(0.2)))\n",
    "\tmodel.add(LSTM(64,activation='tanh',return_sequences=True))\n",
    "\tmodel.add(BatchNormalization())\n",
    "\tmodel.add(Dropout(0.2))\n",
    "\tmodel.add(LSTM(32,activation='tanh',return_sequences=False))\n",
    "\tmodel.add(BatchNormalization())\n",
    "\tmodel.add(Dropout(0.2))\n",
    "\tmodel.add(Dense(10,activation='softmax'))\n",
    "\treturn model"
   ]
  },
  {
   "cell_type": "code",
   "execution_count": null,
   "metadata": {
    "colab": {},
    "colab_type": "code",
    "id": "4Ji4AqpQGwjU"
   },
   "outputs": [],
   "source": [
    "def model_building_1():\n",
    "\tmodel = Sequential()\n",
    "\tmodel.add(TimeDistributed(Dense(128,activation='tanh'),input_shape=(X.shape[1:])))\n",
    "\tmodel.add(TimeDistributed(Dropout(0.2)))\n",
    "\t#model.add(TimeDistributed(Dense(128,activation='tanh')))\n",
    "\t#model.add(TimeDistributed(Dropout(0.2)))\n",
    "\tmodel.add(TimeDistributed(Dense(32,activation='tanh')))\n",
    "\tmodel.add(TimeDistributed(Dropout(0.2)))\n",
    "\t#model.add(TimeDistributed(Dense(32,activation='tanh')))\n",
    "\t#model.add(TimeDistributed(Dropout(0.2)))\n",
    "\tmodel.add(LSTM(128,activation='tanh',return_sequences=True))\n",
    "\tmodel.add(BatchNormalization())\n",
    "\tmodel.add(Dropout(0.2))\n",
    "\tmodel.add(LSTM(64,activation='tanh',return_sequences=True))\n",
    "\tmodel.add(BatchNormalization())\n",
    "\tmodel.add(Dropout(0.2))\n",
    "\tmodel.add(LSTM(32,activation='tanh',return_sequences=True))\n",
    "\tmodel.add(BatchNormalization())\n",
    "\tmodel.add(Dropout(0.2))\n",
    "\tmodel.add(LSTM(16,activation='tanh',return_sequences=False))\n",
    "\tmodel.add(BatchNormalization())\n",
    "\tmodel.add(Dropout(0.2))\n",
    "\tmodel.add(Dense(10,activation='softmax'))\n",
    "\treturn model"
   ]
  },
  {
   "cell_type": "code",
   "execution_count": null,
   "metadata": {
    "colab": {},
    "colab_type": "code",
    "id": "2mJhF4qYGwjX"
   },
   "outputs": [],
   "source": [
    "def one_step_attention(a,s_prev,time_steps):\n",
    "\ts_prev = RepeatVector(time_steps)(s_prev)\n",
    "\tconcat = Concatenate(axis=-1)([a,s_prev])\n",
    "\te = Dense(10,activation='tanh')(concat)\n",
    "\tenergies = Dense(1,activation='relu')(e)\n",
    "\talpha = Activation('softmax')(energies)\n",
    "\tcontext = Dot(axes=1)([a,alpha])\n",
    "\treturn context\n",
    "\n",
    "def attention_layer(n_bi,n_po,time_steps,feature_size):\n",
    "\tX = Input(shape=(time_steps,feature_size))\n",
    "\ts0 = Input(shape=(n_po,))\n",
    "\tc0 = Input(shape=(n_po,))\n",
    "\tY_1 = TimeDistributed(Dense(128,activation='relu'))(X)\n",
    "\t#Y_1 = TimeDistributed(BatchNormalization())(Y_2)\n",
    "\tY = TimeDistributed(Dropout(0.3))(Y_1)\n",
    "\tZ_1 = TimeDistributed(Dense(64,activation='relu'))(Y)\n",
    "\t#Z_1 = TimeDistributed(BatchNormalization())(Z_2)\n",
    "\tZ = TimeDistributed(Dropout(0.3))(Z_1)\n",
    "\ta = Bidirectional(LSTM(n_bi,return_sequences=True))(Z)\n",
    "\tcontext = one_step_attention(a,s0,time_steps)\n",
    "\ts,m,c = LSTM(n_po,return_state=True)(context,initial_state=[s0,c0])\n",
    "\tout = Dense(10,activation='softmax')(s)\n",
    "\n",
    "\tmodel = Model(inputs=[X,s0,c0],outputs=out)\n",
    "\treturn model    "
   ]
  },
  {
   "cell_type": "code",
   "execution_count": null,
   "metadata": {
    "colab": {},
    "colab_type": "code",
    "id": "_UW4eZQw048v"
   },
   "outputs": [],
   "source": [
    "def model_building_cnn_rnn():\n",
    "\tmodel = Sequential()\n",
    "\tmodel.add(Conv1D(64,(3,3),activation='relu'))\n",
    "    model.add(MaxPool1D((2,2),strides=2))\n",
    "\tmodel.add(Conv1D(32,(3,3),activation='relu'))\n",
    "    model.add(MaxPool1D((2,2),strides=2))\n",
    "\tmodel.add(Conv1D(16,(3,3),activation='relu'))\n",
    "    model.add(MaxPool1D((2,2),strides=2))\n",
    "    model.add(LSTM(128,activation='tanh',return_sequences=True))\n",
    "\tmodel.add(BatchNormalization())\n",
    "\tmodel.add(Dropout(0.2))\n",
    "\tmodel.add(LSTM(64,activation='tanh',return_sequences=True))\n",
    "\tmodel.add(BatchNormalization())\n",
    "\tmodel.add(Dropout(0.2))\n",
    "\tmodel.add(LSTM(32,activation='tanh',return_sequences=True))\n",
    "\tmodel.add(BatchNormalization())\n",
    "\tmodel.add(Dropout(0.2))\n",
    "\tmodel.add(LSTM(16,activation='tanh',return_sequences=False))\n",
    "\tmodel.add(BatchNormalization())\n",
    "\tmodel.add(Dropout(0.2))\n",
    "\tmodel.add(Dense(10,activation='softmax'))\n",
    "\treturn model"
   ]
  },
  {
   "cell_type": "code",
   "execution_count": null,
   "metadata": {
    "colab": {
     "base_uri": "https://localhost:8080/",
     "height": 816
    },
    "colab_type": "code",
    "id": "tnJgkcJ1Gwjc",
    "outputId": "9ebe1019-30a9-42e1-de75-2c026f870325"
   },
   "outputs": [
    {
     "name": "stdout",
     "output_type": "stream",
     "text": [
      "------------------------------Model Compilation Done------------------------------------\n",
      "\n",
      "Model: \"model\"\n",
      "__________________________________________________________________________________________________\n",
      "Layer (type)                    Output Shape         Param #     Connected to                     \n",
      "==================================================================================================\n",
      "input_1 (InputLayer)            [(None, 645, 34)]    0                                            \n",
      "__________________________________________________________________________________________________\n",
      "time_distributed (TimeDistribut (None, 645, 128)     4480        input_1[0][0]                    \n",
      "__________________________________________________________________________________________________\n",
      "time_distributed_1 (TimeDistrib (None, 645, 128)     0           time_distributed[0][0]           \n",
      "__________________________________________________________________________________________________\n",
      "time_distributed_2 (TimeDistrib (None, 645, 64)      8256        time_distributed_1[0][0]         \n",
      "__________________________________________________________________________________________________\n",
      "time_distributed_3 (TimeDistrib (None, 645, 64)      0           time_distributed_2[0][0]         \n",
      "__________________________________________________________________________________________________\n",
      "input_2 (InputLayer)            [(None, 64)]         0                                            \n",
      "__________________________________________________________________________________________________\n",
      "bidirectional (Bidirectional)   (None, 645, 128)     66048       time_distributed_3[0][0]         \n",
      "__________________________________________________________________________________________________\n",
      "repeat_vector (RepeatVector)    (None, 645, 64)      0           input_2[0][0]                    \n",
      "__________________________________________________________________________________________________\n",
      "concatenate (Concatenate)       (None, 645, 192)     0           bidirectional[0][0]              \n",
      "                                                                 repeat_vector[0][0]              \n",
      "__________________________________________________________________________________________________\n",
      "dense_2 (Dense)                 (None, 645, 10)      1930        concatenate[0][0]                \n",
      "__________________________________________________________________________________________________\n",
      "dense_3 (Dense)                 (None, 645, 1)       11          dense_2[0][0]                    \n",
      "__________________________________________________________________________________________________\n",
      "activation (Activation)         (None, 645, 1)       0           dense_3[0][0]                    \n",
      "__________________________________________________________________________________________________\n",
      "dot (Dot)                       (None, 128, 1)       0           bidirectional[0][0]              \n",
      "                                                                 activation[0][0]                 \n",
      "__________________________________________________________________________________________________\n",
      "input_3 (InputLayer)            [(None, 64)]         0                                            \n",
      "__________________________________________________________________________________________________\n",
      "lstm_1 (LSTM)                   [(None, 64), (None,  16896       dot[0][0]                        \n",
      "                                                                 input_2[0][0]                    \n",
      "                                                                 input_3[0][0]                    \n",
      "__________________________________________________________________________________________________\n",
      "dense_4 (Dense)                 (None, 10)           650         lstm_1[0][0]                     \n",
      "==================================================================================================\n",
      "Total params: 98,271\n",
      "Trainable params: 98,271\n",
      "Non-trainable params: 0\n",
      "__________________________________________________________________________________________________\n",
      "None\n"
     ]
    }
   ],
   "source": [
    "model = attention_layer(64,64,X.shape[1],X.shape[2])\n",
    "opt = optimizer.Adam(lr=8e-4,decay=4e-6)\n",
    "model.compile(optimizer=opt,loss='categorical_crossentropy',metrics=['accuracy'])\n",
    "print('------------------------------Model Compilation Done------------------------------------\\n')\n",
    "print(model.summary())"
   ]
  },
  {
   "cell_type": "code",
   "execution_count": null,
   "metadata": {
    "colab": {
     "base_uri": "https://localhost:8080/",
     "height": 1000
    },
    "colab_type": "code",
    "id": "Q4DH5dOBGwjf",
    "outputId": "e9edbcb7-8ab5-4c44-c6cc-46b90432d6ff"
   },
   "outputs": [
    {
     "name": "stdout",
     "output_type": "stream",
     "text": [
      "------------------------------Model Training Started------------------------------------\n",
      "\n",
      "Epoch 1/50\n",
      "14/14 [==============================] - 6s 416ms/step - loss: 2.4174 - accuracy: 0.0988 - val_loss: 2.4053 - val_accuracy: 0.1133\n",
      "Epoch 2/50\n",
      "14/14 [==============================] - 4s 320ms/step - loss: 2.3250 - accuracy: 0.1059 - val_loss: 2.3196 - val_accuracy: 0.1733\n",
      "Epoch 3/50\n",
      "14/14 [==============================] - 4s 318ms/step - loss: 2.2655 - accuracy: 0.1376 - val_loss: 2.2254 - val_accuracy: 0.1800\n",
      "Epoch 4/50\n",
      "14/14 [==============================] - 4s 318ms/step - loss: 2.1910 - accuracy: 0.1824 - val_loss: 2.1932 - val_accuracy: 0.1533\n",
      "Epoch 5/50\n",
      "14/14 [==============================] - 5s 349ms/step - loss: 2.1841 - accuracy: 0.1953 - val_loss: 2.0938 - val_accuracy: 0.1800\n",
      "Epoch 6/50\n",
      "14/14 [==============================] - 4s 320ms/step - loss: 2.1315 - accuracy: 0.2094 - val_loss: 2.0594 - val_accuracy: 0.2067\n",
      "Epoch 7/50\n",
      "14/14 [==============================] - 4s 319ms/step - loss: 2.0825 - accuracy: 0.2318 - val_loss: 2.0299 - val_accuracy: 0.2067\n",
      "Epoch 8/50\n",
      "14/14 [==============================] - 4s 320ms/step - loss: 2.0436 - accuracy: 0.2565 - val_loss: 2.0126 - val_accuracy: 0.2400\n",
      "Epoch 9/50\n",
      "14/14 [==============================] - 4s 321ms/step - loss: 2.0106 - accuracy: 0.2929 - val_loss: 1.9984 - val_accuracy: 0.3200\n",
      "Epoch 10/50\n",
      "14/14 [==============================] - 4s 319ms/step - loss: 1.9681 - accuracy: 0.3047 - val_loss: 1.9705 - val_accuracy: 0.3933\n",
      "Epoch 11/50\n",
      "14/14 [==============================] - 4s 319ms/step - loss: 1.9314 - accuracy: 0.3094 - val_loss: 1.9071 - val_accuracy: 0.3400\n",
      "Epoch 12/50\n",
      "14/14 [==============================] - 4s 319ms/step - loss: 1.9003 - accuracy: 0.3082 - val_loss: 1.8463 - val_accuracy: 0.3467\n",
      "Epoch 13/50\n",
      "14/14 [==============================] - 4s 318ms/step - loss: 1.8403 - accuracy: 0.3318 - val_loss: 1.8007 - val_accuracy: 0.3800\n",
      "Epoch 14/50\n",
      "14/14 [==============================] - 4s 318ms/step - loss: 1.7997 - accuracy: 0.3494 - val_loss: 1.7820 - val_accuracy: 0.3867\n",
      "Epoch 15/50\n",
      "14/14 [==============================] - 4s 319ms/step - loss: 1.7573 - accuracy: 0.3835 - val_loss: 1.7519 - val_accuracy: 0.4067\n",
      "Epoch 16/50\n",
      "14/14 [==============================] - 4s 320ms/step - loss: 1.6982 - accuracy: 0.4212 - val_loss: 1.7168 - val_accuracy: 0.4067\n",
      "Epoch 17/50\n",
      "14/14 [==============================] - 4s 318ms/step - loss: 1.6548 - accuracy: 0.4482 - val_loss: 1.6536 - val_accuracy: 0.4933\n",
      "Epoch 18/50\n",
      "14/14 [==============================] - 4s 319ms/step - loss: 1.6146 - accuracy: 0.4306 - val_loss: 1.6325 - val_accuracy: 0.4800\n",
      "Epoch 19/50\n",
      "14/14 [==============================] - 4s 320ms/step - loss: 1.5481 - accuracy: 0.4859 - val_loss: 1.5463 - val_accuracy: 0.5533\n",
      "Epoch 20/50\n",
      "14/14 [==============================] - 4s 319ms/step - loss: 1.4803 - accuracy: 0.5082 - val_loss: 1.4833 - val_accuracy: 0.5133\n",
      "Epoch 21/50\n",
      "14/14 [==============================] - 4s 319ms/step - loss: 1.4182 - accuracy: 0.5212 - val_loss: 1.4942 - val_accuracy: 0.4867\n",
      "Epoch 22/50\n",
      "14/14 [==============================] - 4s 318ms/step - loss: 1.3988 - accuracy: 0.5212 - val_loss: 1.4060 - val_accuracy: 0.5400\n",
      "Epoch 23/50\n",
      "14/14 [==============================] - 4s 319ms/step - loss: 1.3173 - accuracy: 0.5753 - val_loss: 1.3209 - val_accuracy: 0.5800\n",
      "Epoch 24/50\n",
      "14/14 [==============================] - 4s 319ms/step - loss: 1.2593 - accuracy: 0.5765 - val_loss: 1.3522 - val_accuracy: 0.6067\n",
      "Epoch 25/50\n",
      "14/14 [==============================] - 4s 319ms/step - loss: 1.2368 - accuracy: 0.5671 - val_loss: 1.3024 - val_accuracy: 0.5600\n",
      "Epoch 26/50\n",
      "14/14 [==============================] - 4s 319ms/step - loss: 1.1522 - accuracy: 0.6200 - val_loss: 1.2854 - val_accuracy: 0.5733\n",
      "Epoch 27/50\n",
      "14/14 [==============================] - 4s 321ms/step - loss: 1.1647 - accuracy: 0.5906 - val_loss: 1.3039 - val_accuracy: 0.5667\n",
      "Epoch 28/50\n",
      "14/14 [==============================] - 4s 320ms/step - loss: 1.1094 - accuracy: 0.6412 - val_loss: 1.2691 - val_accuracy: 0.6000\n",
      "Epoch 29/50\n",
      "14/14 [==============================] - 4s 319ms/step - loss: 1.0920 - accuracy: 0.6400 - val_loss: 1.3042 - val_accuracy: 0.5733\n",
      "Epoch 30/50\n",
      "14/14 [==============================] - 5s 323ms/step - loss: 1.0793 - accuracy: 0.6529 - val_loss: 1.2269 - val_accuracy: 0.5933\n",
      "Epoch 31/50\n",
      "14/14 [==============================] - 5s 322ms/step - loss: 1.0100 - accuracy: 0.6871 - val_loss: 1.2401 - val_accuracy: 0.6133\n",
      "Epoch 32/50\n",
      "14/14 [==============================] - 5s 323ms/step - loss: 0.9856 - accuracy: 0.6906 - val_loss: 1.2493 - val_accuracy: 0.5933\n",
      "Epoch 33/50\n",
      "14/14 [==============================] - 5s 324ms/step - loss: 0.9603 - accuracy: 0.7012 - val_loss: 1.2554 - val_accuracy: 0.5800\n",
      "Epoch 34/50\n",
      "14/14 [==============================] - 5s 323ms/step - loss: 0.9523 - accuracy: 0.6965 - val_loss: 1.1918 - val_accuracy: 0.6267\n",
      "Epoch 35/50\n",
      "14/14 [==============================] - 5s 322ms/step - loss: 0.9002 - accuracy: 0.7282 - val_loss: 1.2197 - val_accuracy: 0.6067\n",
      "Epoch 36/50\n",
      "14/14 [==============================] - 5s 322ms/step - loss: 0.8739 - accuracy: 0.7259 - val_loss: 1.2250 - val_accuracy: 0.6133\n",
      "Epoch 37/50\n",
      "14/14 [==============================] - 5s 324ms/step - loss: 0.8472 - accuracy: 0.7294 - val_loss: 1.1739 - val_accuracy: 0.6267\n",
      "Epoch 38/50\n",
      "14/14 [==============================] - 5s 323ms/step - loss: 0.8890 - accuracy: 0.7082 - val_loss: 1.1655 - val_accuracy: 0.6467\n",
      "Epoch 39/50\n",
      "14/14 [==============================] - 5s 323ms/step - loss: 0.8429 - accuracy: 0.7329 - val_loss: 1.1459 - val_accuracy: 0.6600\n",
      "Epoch 40/50\n",
      "14/14 [==============================] - 5s 324ms/step - loss: 0.8168 - accuracy: 0.7329 - val_loss: 1.2008 - val_accuracy: 0.6267\n",
      "Epoch 41/50\n",
      "14/14 [==============================] - 5s 322ms/step - loss: 0.7670 - accuracy: 0.7647 - val_loss: 1.1360 - val_accuracy: 0.6333\n",
      "Epoch 42/50\n",
      "14/14 [==============================] - 5s 324ms/step - loss: 0.7074 - accuracy: 0.7835 - val_loss: 1.2489 - val_accuracy: 0.6000\n",
      "Epoch 43/50\n",
      "14/14 [==============================] - 5s 324ms/step - loss: 0.7581 - accuracy: 0.7565 - val_loss: 1.1347 - val_accuracy: 0.6333\n",
      "Epoch 44/50\n",
      "14/14 [==============================] - 5s 323ms/step - loss: 0.6851 - accuracy: 0.7976 - val_loss: 1.1758 - val_accuracy: 0.6067\n",
      "Epoch 45/50\n",
      "14/14 [==============================] - 5s 322ms/step - loss: 0.6990 - accuracy: 0.7659 - val_loss: 1.1545 - val_accuracy: 0.6067\n",
      "Epoch 46/50\n",
      "14/14 [==============================] - 5s 322ms/step - loss: 0.6678 - accuracy: 0.7835 - val_loss: 1.1844 - val_accuracy: 0.6067\n",
      "Epoch 47/50\n",
      "14/14 [==============================] - 5s 322ms/step - loss: 0.6329 - accuracy: 0.8047 - val_loss: 1.2049 - val_accuracy: 0.6133\n",
      "Epoch 48/50\n",
      "14/14 [==============================] - 4s 319ms/step - loss: 0.5960 - accuracy: 0.8188 - val_loss: 1.1216 - val_accuracy: 0.6467\n",
      "Epoch 49/50\n",
      "14/14 [==============================] - 5s 322ms/step - loss: 0.6567 - accuracy: 0.7906 - val_loss: 1.1661 - val_accuracy: 0.6533\n",
      "Epoch 50/50\n",
      "14/14 [==============================] - 5s 323ms/step - loss: 0.6025 - accuracy: 0.8141 - val_loss: 1.1258 - val_accuracy: 0.6333\n"
     ]
    }
   ],
   "source": [
    "# WITH 1290 TIMESTEPS\n",
    "print('------------------------------Model Training Started------------------------------------\\n')\n",
    "history = model.fit([X_train,np.zeros((850,64)),np.zeros((850,64))],y_train,epochs=50,batch_size=64,validation_data=([X_test,np.zeros((150,64)),np.zeros((150,64))],y_test))"
   ]
  },
  {
   "cell_type": "code",
   "execution_count": null,
   "metadata": {
    "colab": {
     "base_uri": "https://localhost:8080/",
     "height": 1000
    },
    "colab_type": "code",
    "id": "bW_kxzVZkOYH",
    "outputId": "5fc928ab-6d91-47ca-8a25-823ccfde8855"
   },
   "outputs": [
    {
     "name": "stdout",
     "output_type": "stream",
     "text": [
      "------------------------------Model Training Started------------------------------------\n",
      "\n",
      "Epoch 1/50\n",
      "27/27 [==============================] - 8s 299ms/step - loss: 2.2853 - accuracy: 0.1571 - val_loss: 2.1603 - val_accuracy: 0.2333\n",
      "Epoch 2/50\n",
      "27/27 [==============================] - 6s 233ms/step - loss: 2.0617 - accuracy: 0.2465 - val_loss: 1.9749 - val_accuracy: 0.2867\n",
      "Epoch 3/50\n",
      "27/27 [==============================] - 6s 231ms/step - loss: 1.8750 - accuracy: 0.3465 - val_loss: 1.7616 - val_accuracy: 0.4233\n",
      "Epoch 4/50\n",
      "27/27 [==============================] - 6s 228ms/step - loss: 1.6514 - accuracy: 0.4459 - val_loss: 1.6249 - val_accuracy: 0.4267\n",
      "Epoch 5/50\n",
      "27/27 [==============================] - 6s 220ms/step - loss: 1.4769 - accuracy: 0.4841 - val_loss: 1.4510 - val_accuracy: 0.4833\n",
      "Epoch 6/50\n",
      "27/27 [==============================] - 6s 216ms/step - loss: 1.3549 - accuracy: 0.5229 - val_loss: 1.4325 - val_accuracy: 0.4967\n",
      "Epoch 7/50\n",
      "27/27 [==============================] - 6s 207ms/step - loss: 1.2371 - accuracy: 0.5676 - val_loss: 1.2881 - val_accuracy: 0.5467\n",
      "Epoch 8/50\n",
      "27/27 [==============================] - 6s 206ms/step - loss: 1.1820 - accuracy: 0.5935 - val_loss: 1.2713 - val_accuracy: 0.5367\n",
      "Epoch 9/50\n",
      "27/27 [==============================] - 6s 206ms/step - loss: 1.1069 - accuracy: 0.6094 - val_loss: 1.2931 - val_accuracy: 0.5200\n",
      "Epoch 10/50\n",
      "27/27 [==============================] - 6s 206ms/step - loss: 1.0612 - accuracy: 0.6400 - val_loss: 1.2615 - val_accuracy: 0.6000\n",
      "Epoch 11/50\n",
      "27/27 [==============================] - 6s 206ms/step - loss: 1.0164 - accuracy: 0.6588 - val_loss: 1.1909 - val_accuracy: 0.5533\n",
      "Epoch 12/50\n",
      "27/27 [==============================] - 6s 207ms/step - loss: 0.9522 - accuracy: 0.6641 - val_loss: 1.1178 - val_accuracy: 0.6233\n",
      "Epoch 13/50\n",
      "27/27 [==============================] - 6s 207ms/step - loss: 0.9151 - accuracy: 0.6900 - val_loss: 1.0621 - val_accuracy: 0.6333\n",
      "Epoch 14/50\n",
      "27/27 [==============================] - 6s 209ms/step - loss: 0.8328 - accuracy: 0.7276 - val_loss: 0.9978 - val_accuracy: 0.6400\n",
      "Epoch 15/50\n",
      "27/27 [==============================] - 6s 207ms/step - loss: 0.7923 - accuracy: 0.7382 - val_loss: 1.1778 - val_accuracy: 0.6067\n",
      "Epoch 16/50\n",
      "27/27 [==============================] - 6s 207ms/step - loss: 0.7568 - accuracy: 0.7547 - val_loss: 0.9935 - val_accuracy: 0.6533\n",
      "Epoch 17/50\n",
      "27/27 [==============================] - 6s 208ms/step - loss: 0.7209 - accuracy: 0.7494 - val_loss: 1.1344 - val_accuracy: 0.6033\n",
      "Epoch 18/50\n",
      "27/27 [==============================] - 5s 203ms/step - loss: 0.6988 - accuracy: 0.7671 - val_loss: 1.0413 - val_accuracy: 0.6733\n",
      "Epoch 19/50\n",
      "27/27 [==============================] - 6s 204ms/step - loss: 0.6541 - accuracy: 0.7865 - val_loss: 0.9641 - val_accuracy: 0.6600\n",
      "Epoch 20/50\n",
      "27/27 [==============================] - 5s 204ms/step - loss: 0.6568 - accuracy: 0.7841 - val_loss: 0.9854 - val_accuracy: 0.6567\n",
      "Epoch 21/50\n",
      "27/27 [==============================] - 5s 202ms/step - loss: 0.6029 - accuracy: 0.7988 - val_loss: 1.0084 - val_accuracy: 0.6567\n",
      "Epoch 22/50\n",
      "27/27 [==============================] - 5s 203ms/step - loss: 0.5701 - accuracy: 0.8135 - val_loss: 1.0075 - val_accuracy: 0.6533\n",
      "Epoch 23/50\n",
      "27/27 [==============================] - 5s 200ms/step - loss: 0.5804 - accuracy: 0.8118 - val_loss: 1.0250 - val_accuracy: 0.6533\n",
      "Epoch 24/50\n",
      "27/27 [==============================] - 5s 201ms/step - loss: 0.6094 - accuracy: 0.7935 - val_loss: 0.9285 - val_accuracy: 0.7033\n",
      "Epoch 25/50\n",
      "27/27 [==============================] - 5s 200ms/step - loss: 0.4987 - accuracy: 0.8359 - val_loss: 0.9437 - val_accuracy: 0.6933\n",
      "Epoch 26/50\n",
      "27/27 [==============================] - 5s 200ms/step - loss: 0.4729 - accuracy: 0.8518 - val_loss: 0.9823 - val_accuracy: 0.6900\n",
      "Epoch 27/50\n",
      "27/27 [==============================] - 5s 201ms/step - loss: 0.4828 - accuracy: 0.8400 - val_loss: 0.9608 - val_accuracy: 0.6833\n",
      "Epoch 28/50\n",
      "27/27 [==============================] - 5s 200ms/step - loss: 0.4675 - accuracy: 0.8459 - val_loss: 1.0794 - val_accuracy: 0.6767\n",
      "Epoch 29/50\n",
      "27/27 [==============================] - 5s 200ms/step - loss: 0.5654 - accuracy: 0.8106 - val_loss: 0.9463 - val_accuracy: 0.7000\n",
      "Epoch 30/50\n",
      "27/27 [==============================] - 5s 201ms/step - loss: 0.5169 - accuracy: 0.8247 - val_loss: 0.8151 - val_accuracy: 0.7533\n",
      "Epoch 31/50\n",
      "27/27 [==============================] - 5s 200ms/step - loss: 0.4314 - accuracy: 0.8582 - val_loss: 0.8827 - val_accuracy: 0.7267\n",
      "Epoch 32/50\n",
      "27/27 [==============================] - 5s 201ms/step - loss: 0.3828 - accuracy: 0.8712 - val_loss: 0.8645 - val_accuracy: 0.7333\n",
      "Epoch 33/50\n",
      "27/27 [==============================] - 5s 200ms/step - loss: 0.3898 - accuracy: 0.8729 - val_loss: 1.0666 - val_accuracy: 0.6833\n",
      "Epoch 34/50\n",
      "27/27 [==============================] - 5s 200ms/step - loss: 0.4191 - accuracy: 0.8606 - val_loss: 1.0149 - val_accuracy: 0.7100\n",
      "Epoch 35/50\n",
      "27/27 [==============================] - 5s 200ms/step - loss: 0.3450 - accuracy: 0.8859 - val_loss: 0.9574 - val_accuracy: 0.7133\n",
      "Epoch 36/50\n",
      "27/27 [==============================] - 5s 199ms/step - loss: 0.3154 - accuracy: 0.8971 - val_loss: 0.8710 - val_accuracy: 0.7233\n",
      "Epoch 37/50\n",
      "27/27 [==============================] - 5s 200ms/step - loss: 0.3377 - accuracy: 0.8865 - val_loss: 1.0183 - val_accuracy: 0.6933\n",
      "Epoch 38/50\n",
      "27/27 [==============================] - 5s 200ms/step - loss: 0.3432 - accuracy: 0.8812 - val_loss: 1.1196 - val_accuracy: 0.6667\n",
      "Epoch 39/50\n",
      "27/27 [==============================] - 5s 200ms/step - loss: 0.3063 - accuracy: 0.9000 - val_loss: 0.8562 - val_accuracy: 0.7500\n",
      "Epoch 40/50\n",
      "27/27 [==============================] - 5s 199ms/step - loss: 0.2749 - accuracy: 0.9153 - val_loss: 0.9041 - val_accuracy: 0.7600\n",
      "Epoch 41/50\n",
      "27/27 [==============================] - 5s 199ms/step - loss: 0.2654 - accuracy: 0.9147 - val_loss: 0.9450 - val_accuracy: 0.7233\n",
      "Epoch 42/50\n",
      "27/27 [==============================] - 5s 199ms/step - loss: 0.2591 - accuracy: 0.9129 - val_loss: 1.0488 - val_accuracy: 0.6933\n",
      "Epoch 43/50\n",
      "27/27 [==============================] - 5s 200ms/step - loss: 0.2765 - accuracy: 0.9082 - val_loss: 0.9184 - val_accuracy: 0.7300\n",
      "Epoch 44/50\n",
      "27/27 [==============================] - 5s 200ms/step - loss: 0.2654 - accuracy: 0.9124 - val_loss: 0.9857 - val_accuracy: 0.7133\n",
      "Epoch 45/50\n",
      "27/27 [==============================] - 5s 199ms/step - loss: 0.2420 - accuracy: 0.9265 - val_loss: 1.0396 - val_accuracy: 0.6900\n",
      "Epoch 46/50\n",
      "27/27 [==============================] - 5s 200ms/step - loss: 0.2048 - accuracy: 0.9435 - val_loss: 1.0245 - val_accuracy: 0.7133\n",
      "Epoch 47/50\n",
      "27/27 [==============================] - 5s 199ms/step - loss: 0.2317 - accuracy: 0.9265 - val_loss: 0.9564 - val_accuracy: 0.7400\n",
      "Epoch 48/50\n",
      "27/27 [==============================] - 5s 200ms/step - loss: 0.1951 - accuracy: 0.9424 - val_loss: 0.9363 - val_accuracy: 0.7167\n",
      "Epoch 49/50\n",
      "27/27 [==============================] - 5s 200ms/step - loss: 0.2233 - accuracy: 0.9265 - val_loss: 1.1825 - val_accuracy: 0.6500\n",
      "Epoch 50/50\n",
      "27/27 [==============================] - 5s 199ms/step - loss: 0.2066 - accuracy: 0.9394 - val_loss: 1.1513 - val_accuracy: 0.7033\n"
     ]
    }
   ],
   "source": [
    "# WITH 645 TIMESTEPS\n",
    "print('------------------------------Model Training Started------------------------------------\\n')\n",
    "history = model.fit([X_train,np.zeros((1700,64)),np.zeros((1700,64))],y_train,epochs=30,batch_size=64,validation_data=([X_test,np.zeros((300,64)),np.zeros((300,64))],y_test))"
   ]
  },
  {
   "cell_type": "code",
   "execution_count": null,
   "metadata": {
    "colab": {
     "base_uri": "https://localhost:8080/",
     "height": 299
    },
    "colab_type": "code",
    "id": "q0A-K3d4Gwjj",
    "outputId": "a29d2db4-f020-4c18-eb7b-b199c6b2231c"
   },
   "outputs": [
    {
     "data": {
      "text/plain": [
       "<matplotlib.legend.Legend at 0x7ff5e80d57b8>"
      ]
     },
     "execution_count": 30,
     "metadata": {
      "tags": []
     },
     "output_type": "execute_result"
    },
    {
     "data": {
      "image/png": "[encoded data removed]",
      "text/plain": [
       "<Figure size 432x288 with 1 Axes>"
      ]
     },
     "metadata": {
      "needs_background": "light",
      "tags": []
     },
     "output_type": "display_data"
    }
   ],
   "source": [
    "plt.plot(history.history['loss'],label='Training Loss(1290)')\n",
    "plt.plot(history.history['val_loss'],label='CV Loss(1290)')\n",
    "plt.xlabel('No. of Epochs')\n",
    "plt.ylabel(\"Accuracy\")\n",
    "plt.legend()"
   ]
  },
  {
   "cell_type": "code",
   "execution_count": null,
   "metadata": {
    "colab": {
     "base_uri": "https://localhost:8080/",
     "height": 296
    },
    "colab_type": "code",
    "id": "zC25ojszlYnA",
    "outputId": "be720483-ff34-47ae-d513-cdf5d8e38304"
   },
   "outputs": [
    {
     "data": {
      "text/plain": [
       "<matplotlib.legend.Legend at 0x7f98ead39be0>"
      ]
     },
     "execution_count": 22,
     "metadata": {
      "tags": []
     },
     "output_type": "execute_result"
    },
    {
     "data": {
      "image/png": "[encoded data removed]",
      "text/plain": [
       "<Figure size 432x288 with 1 Axes>"
      ]
     },
     "metadata": {
      "needs_background": "light",
      "tags": []
     },
     "output_type": "display_data"
    }
   ],
   "source": [
    "plt.plot(history.history['loss'],label='Training Loss(645)')\n",
    "plt.plot(history.history['val_loss'],label='CV Loss(645)')\n",
    "plt.xlabel('No. of Epochs')\n",
    "plt.ylabel(\"Accuracy\")\n",
    "plt.legend()"
   ]
  },
  {
   "cell_type": "code",
   "execution_count": null,
   "metadata": {
    "colab": {
     "base_uri": "https://localhost:8080/",
     "height": 296
    },
    "colab_type": "code",
    "id": "44XT0_UbGwjm",
    "outputId": "fa67a112-8def-426b-b3e9-ba13641c9667"
   },
   "outputs": [
    {
     "data": {
      "text/plain": [
       "<matplotlib.legend.Legend at 0x7ff5e85b3780>"
      ]
     },
     "execution_count": 31,
     "metadata": {
      "tags": []
     },
     "output_type": "execute_result"
    },
    {
     "data": {
      "image/png": "[encoded data removed]",
      "text/plain": [
       "<Figure size 432x288 with 1 Axes>"
      ]
     },
     "metadata": {
      "needs_background": "light",
      "tags": []
     },
     "output_type": "display_data"
    }
   ],
   "source": [
    "plt.plot(history.history['accuracy'],label='Training Accuracy')\n",
    "plt.plot(history.history['val_accuracy'],label='CV Accuracy')\n",
    "plt.plot([history.history['accuracy'][i]-history.history['val_accuracy'][i] for i in range(len(history.history['val_accuracy']))],label='Degree of Overfitting')\n",
    "plt.xlabel('No. of Epochs')\n",
    "plt.ylabel(\"Accuracy\")\n",
    "plt.legend()"
   ]
  },
  {
   "cell_type": "code",
   "execution_count": null,
   "metadata": {
    "colab": {},
    "colab_type": "code",
    "id": "BjgAEYj3Gwjq",
    "outputId": "721fff53-dd27-4f58-a042-a71afbdd152f"
   },
   "outputs": [
    {
     "data": {
      "text/plain": [
       "<matplotlib.legend.Legend at 0x2a623ac0bc8>"
      ]
     },
     "execution_count": 17,
     "metadata": {
      "tags": []
     },
     "output_type": "execute_result"
    },
    {
     "data": {
      "image/png": "[encoded data removed]",
      "text/plain": [
       "<Figure size 432x288 with 1 Axes>"
      ]
     },
     "metadata": {
      "needs_background": "light",
      "tags": []
     },
     "output_type": "display_data"
    }
   ],
   "source": [
    "plt.plot(history.history['loss'],label='Training Loss')\n",
    "plt.plot(history.history['val_loss'],label='CV Loss')\n",
    "plt.legend()"
   ]
  },
  {
   "cell_type": "code",
   "execution_count": null,
   "metadata": {
    "colab": {},
    "colab_type": "code",
    "id": "G6Q6LUbnGwjt",
    "outputId": "05d8bec0-93b1-4012-8972-e9a73c49b7ca"
   },
   "outputs": [
    {
     "data": {
      "text/plain": [
       "<matplotlib.legend.Legend at 0x2a6240b1f48>"
      ]
     },
     "execution_count": 15,
     "metadata": {
      "tags": []
     },
     "output_type": "execute_result"
    },
    {
     "data": {
      "image/png": "[encoded data removed]",
      "text/plain": [
       "<Figure size 432x288 with 1 Axes>"
      ]
     },
     "metadata": {
      "needs_background": "light",
      "tags": []
     },
     "output_type": "display_data"
    }
   ],
   "source": [
    "plt.plot(history.history['loss'],label='Training Loss')\n",
    "plt.plot(history.history['val_loss'],label='CV Loss')\n",
    "plt.legend()"
   ]
  },
  {
   "cell_type": "code",
   "execution_count": null,
   "metadata": {
    "colab": {},
    "colab_type": "code",
    "id": "3N8eYmORGwj0",
    "outputId": "51588594-fb79-4d12-bfa2-4f44c9865aa9"
   },
   "outputs": [
    {
     "data": {
      "text/plain": [
       "<matplotlib.legend.Legend at 0x2a623720948>"
      ]
     },
     "execution_count": 13,
     "metadata": {
      "tags": []
     },
     "output_type": "execute_result"
    },
    {
     "data": {
      "image/png": "[encoded data removed]",
      "text/plain": [
       "<Figure size 432x288 with 1 Axes>"
      ]
     },
     "metadata": {
      "needs_background": "light",
      "tags": []
     },
     "output_type": "display_data"
    }
   ],
   "source": [
    "plt.plot(history.history['loss'],label='Training Loss')\n",
    "plt.plot(history.history['val_loss'],label='CV Loss')\n",
    "plt.legend()"
   ]
  },
  {
   "cell_type": "code",
   "execution_count": null,
   "metadata": {
    "colab": {},
    "colab_type": "code",
    "id": "F7JkJ2QQdGiz"
   },
   "outputs": [],
   "source": []
  }
 ],
 "metadata": {
  "accelerator": "GPU",
  "colab": {
   "collapsed_sections": [],
   "name": "GTZAN_KAGG_DIRECT.ipynb",
   "provenance": []
  },
  "kernelspec": {
   "display_name": "Python 3",
   "language": "python",
   "name": "python3"
  },
  "language_info": {
   "codemirror_mode": {
    "name": "ipython",
    "version": 3
   },
   "file_extension": ".py",
   "mimetype": "text/x-python",
   "name": "python",
   "nbconvert_exporter": "python",
   "pygments_lexer": "ipython3",
   "version": "3.8.3"
  }
 },
 "nbformat": 4,
 "nbformat_minor": 1
}
